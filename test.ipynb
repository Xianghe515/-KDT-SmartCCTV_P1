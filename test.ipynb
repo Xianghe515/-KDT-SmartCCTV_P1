{
 "cells": [
  {
   "cell_type": "code",
   "execution_count": null,
   "metadata": {},
   "outputs": [
    {
     "name": "stderr",
     "output_type": "stream",
     "text": [
      "[ WARN:0@30.152] global cap_gstreamer.cpp:1777 open OpenCV | GStreamer warning: Cannot query video position: status=0, value=-1, duration=-1\n"
     ]
    }
   ],
   "source": [
    "import cv2 as cv\n",
    "import sys\n",
    "\n",
    "cap=cv.VideoCapture(0)   # 카메라와 연결 시도\n",
    "\n",
    "if not cap.isOpened():\n",
    "    sys.exit('카메라 연결 실패')\n",
    "    \n",
    "while True:\n",
    "    ret,frame=cap.read()         # 비디오를 구성하는 프레임 획득\n",
    "    if not ret:\n",
    "        print('프레임 획득에 실패하여 루프를 나갑니다.')\n",
    "        break\n",
    "        \n",
    "    cv.imshow('Video display',frame)\n",
    "    \n",
    "    key=cv.waitKey(1)   # 1밀리초 동안 키보드 입력 기다림\n",
    "    if key==ord('q'):   # 'q' 키가 들어오면 루프를 빠져나감\n",
    "        break \n",
    "    \n",
    "cap.release()         # 카메라와 연결을 끊음\n",
    "cv.destroyAllWindows()"
   ]
  },
  {
   "cell_type": "code",
   "execution_count": 14,
   "metadata": {},
   "outputs": [
    {
     "name": "stderr",
     "output_type": "stream",
     "text": [
      "[ WARN:0@11748.449] global cap_gstreamer.cpp:2829 handleMessage OpenCV | GStreamer warning: Embedded video playback halted; module v4l2src5 reported: Device '/dev/video0' is busy\n",
      "[ WARN:0@11748.451] global cap_gstreamer.cpp:1698 open OpenCV | GStreamer warning: unable to start pipeline\n",
      "[ WARN:0@11748.451] global cap_gstreamer.cpp:1173 isPipelinePlaying OpenCV | GStreamer warning: GStreamer: pipeline have not been created\n",
      "[ WARN:0@11748.452] global cap_v4l.cpp:913 open VIDEOIO(V4L2:/dev/video0): can't open camera by index\n",
      "[ERROR:0@11748.473] global obsensor_uvc_stream_channel.cpp:158 getStreamChannelGroup Camera index out of range\n"
     ]
    },
    {
     "ename": "SystemExit",
     "evalue": "카메라 연결 실패",
     "output_type": "error",
     "traceback": [
      "An exception has occurred, use %tb to see the full traceback.\n",
      "\u001b[31mSystemExit\u001b[39m\u001b[31m:\u001b[39m 카메라 연결 실패\n"
     ]
    },
    {
     "name": "stderr",
     "output_type": "stream",
     "text": [
      "/home/xianghe515/YOLO11/venv/lib/python3.11/site-packages/IPython/core/interactiveshell.py:3557: UserWarning: To exit: use 'exit', 'quit', or Ctrl-D.\n",
      "  warn(\"To exit: use 'exit', 'quit', or Ctrl-D.\", stacklevel=1)\n"
     ]
    }
   ],
   "source": [
    "import cv2 as cv\n",
    "import sys\n",
    "\n",
    "cap=cv.VideoCapture(0)   # 카메라와 연결 시도\n",
    "\n",
    "if not cap.isOpened():\n",
    "    sys.exit('카메라 연결 실패')\n",
    "    \n",
    "while True:\n",
    "    ret,frame=cap.read()         # 비디오를 구성하는 프레임 획득\n",
    "    if not ret:\n",
    "        print('프레임 획득에 실패하여 루프를 나갑니다.')\n",
    "        break\n",
    "        \n",
    "    # 프레임 리사이즈\n",
    "    resized_frame = cv.resize(frame, (320, 240))\n",
    "\n",
    "    # 프레임을 WebP 형식으로 인코딩\n",
    "    success, encoded_frame = cv.imencode('.webp', resized_frame, [cv.IMWRITE_WEBP_QUALITY, 80])\n",
    "    if not success:\n",
    "        print('Webp 인코딩 실패')\n",
    "        continue\n",
    "\n",
    "    # # 인코딩된 프레임 데이터 출력\n",
    "    # print(f\"인코딩된 Webp 데이터 크기: {len(encoded_frame.tobytes())}바이트\")\n",
    "    cv.imshow('Video display',resized_frame)\n",
    "    \n",
    "    key=cv.waitKey(1)   # 1밀리초 동안 키보드 입력 기다림\n",
    "    if key==ord('q'):   # 'q' 키가 들어오면 루프를 빠져나감\n",
    "        break \n",
    "    \n",
    "cap.release()         # 카메라와 연결을 끊음\n",
    "cv.destroyAllWindows()\n"
   ]
  },
  {
   "cell_type": "code",
   "execution_count": null,
   "metadata": {},
   "outputs": [],
   "source": []
  }
 ],
 "metadata": {
  "kernelspec": {
   "display_name": "venv",
   "language": "python",
   "name": "python3"
  },
  "language_info": {
   "codemirror_mode": {
    "name": "ipython",
    "version": 3
   },
   "file_extension": ".py",
   "mimetype": "text/x-python",
   "name": "python",
   "nbconvert_exporter": "python",
   "pygments_lexer": "ipython3",
   "version": "3.11.2"
  }
 },
 "nbformat": 4,
 "nbformat_minor": 2
}
